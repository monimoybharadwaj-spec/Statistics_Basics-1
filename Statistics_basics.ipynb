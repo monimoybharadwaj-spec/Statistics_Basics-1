{
  "nbformat": 4,
  "nbformat_minor": 0,
  "metadata": {
    "colab": {
      "provenance": []
    },
    "kernelspec": {
      "name": "python3",
      "display_name": "Python 3"
    },
    "language_info": {
      "name": "python"
    }
  },
  "cells": [
    {
      "cell_type": "markdown",
      "source": [
        "Question 1: What is the difference between descriptive statistics and inferential statistics? Explain with examples.\n",
        "\n",
        "Answer: Statistics is broadly divided into two branches: descriptive statistics and inferential statistics.\n",
        "\n",
        "1. Descriptive Statistics\n",
        "\n",
        "Definition: Descriptive statistics refers to methods that are used to organize, summarize, and present data in a clear and meaningful way.\n",
        "\n",
        "Purpose: To describe the characteristics of a dataset without making generalizations beyond it.\n",
        "\n",
        "Techniques Used: Measures of central tendency (mean, median, mode), measures of dispersion (range, variance, standard deviation), tables, and graphs.\n",
        "\n",
        "Example: If we record the marks of 50 students in a test and calculate the average score (say 72 out of 100) and present it in a bar chart, we are using descriptive statistics.\n",
        "\n",
        "2. Inferential Statistics\n",
        "\n",
        "Definition: Inferential statistics involves using data from a sample to make predictions, conclusions, or generalizations about the larger population.\n",
        "\n",
        "Purpose: To infer characteristics of a population and test hypotheses based on sample data.\n",
        "\n",
        "Techniques Used: Hypothesis testing, confidence intervals, regression analysis, correlation, and estimation.\n",
        "\n",
        "Example: If a survey is conducted on 200 voters in a city and, based on the sample, predictions are made about the voting preferences of the entire city population, that is inferential statistics."
      ],
      "metadata": {
        "id": "VZn8oT7jJlQH"
      }
    },
    {
      "cell_type": "markdown",
      "source": [
        "Question 2: What is sampling in statistics? Explain the differences between random and stratified sampling.\n",
        "\n",
        "Answer: In statistics, sampling is the process of selecting a subset of individuals or observations (sample) from a larger group (population) in order to study the characteristics of the population. Since studying an entire population is often difficult, costly, or time-consuming, sampling provides a practical way to draw conclusions about the population.\n",
        "\n",
        "Example: Instead of surveying all the people in a city, a researcher may select 500 individuals to estimate the average income of the population.\n",
        "\n",
        "1) Random Sampling\n",
        "\n",
        "Definition: Random sampling is a method where every member of the population has an equal chance of being selected.\n",
        "\n",
        "Purpose: To avoid bias and ensure that the sample represents the population fairly.\n",
        "\n",
        "Advantages: Simple to apply, unbiased representation.\n",
        "\n",
        "Disadvantages: May not always represent small subgroups of the population.\n",
        "\n",
        "Example: Drawing 50 student names randomly from a box containing slips with all student names.\n",
        "\n",
        "2) Stratified Sampling\n",
        "\n",
        "Definition: Stratified sampling is a method where the population is divided into homogeneous subgroups (strata) based on certain characteristics (e.g., gender, age, income level), and then random samples are taken from each subgroup.\n",
        "\n",
        "Purpose: To ensure representation of all important subgroups in the sample.\n",
        "\n",
        "Advantages: Provides more accurate and representative results, especially when population has distinct subgroups.\n",
        "\n",
        "Disadvantages: More complex and requires prior knowledge of the population structure.\n",
        "\n",
        "Example: Dividing students into groups based on grade level (freshman, sophomore, junior, senior) and then randomly selecting equal numbers from each group."
      ],
      "metadata": {
        "id": "NHLoLhu4KMyT"
      }
    },
    {
      "cell_type": "markdown",
      "source": [
        "Question 3: Define mean, median, and mode. Explain why these measures of central\n",
        "tendency are important.\n",
        "\n",
        "Answer: In statistics, the mean, median, and mode are the most common measures of central tendency, which describe the central value of a dataset.\n",
        "1) The mean is the arithmetic average of all the observations, providing a balanced measure of the data.\n",
        "2) The median is the middle value when the data is arranged in order, and it is particularly useful for identifying the central point in skewed distributions.\n",
        "3) The mode is the value that occurs most frequently in a dataset, representing the most common observation.\n",
        "\n",
        "These measures of central tendency are important because they summarize large amounts of data into a single representative value, making interpretation and comparison easier. They also play a vital role in decision-making, research, and analysis across different fields, as they provide insights into the overall trend and distribution of data"
      ],
      "metadata": {
        "id": "EXb2NKN5KwDh"
      }
    },
    {
      "cell_type": "markdown",
      "source": [
        "Question 4: Explain skewness and kurtosis. What does a positive skew imply about the data?\n",
        "\n",
        "Answer: In statistics, skewness and kurtosis are measures that describe the shape and characteristics of a data distribution. Skewness indicates the degree of asymmetry of a distribution around its mean. A distribution with zero skewness is perfectly symmetric, while a positive skew means the distribution has a longer tail on the right side, and a negative skew indicates a longer tail on the left side. On the other hand, kurtosis measures the \"peakedness\" or flatness of a distribution compared to a normal distribution. High kurtosis indicates that data have heavy tails and more outliers, while low kurtosis suggests lighter tails and fewer outliers.\n",
        "\n",
        "A positive skew specifically implies that most of the data values are concentrated on the lower side of the scale, but there are a few extremely high values stretching the tail to the right. This means the mean is greater than the median, and the distribution is not symmetric."
      ],
      "metadata": {
        "id": "zQCmBpzIL5gM"
      }
    },
    {
      "cell_type": "code",
      "source": [
        "# Question 5: Implement a Python program to compute the mean, median, and mode of a given list of numbers.\n",
        "# numbers = [12, 15, 12, 18, 19, 12, 20, 22, 19, 19, 24, 24, 24, 26, 28]\n",
        "\n",
        "# Answer:\n",
        "\n",
        "import numpy as np\n",
        "import statistics\n",
        "\n",
        "numbers = [12, 15, 12, 18, 19, 12, 20, 22, 19, 19, 24, 24, 24, 26, 28]\n",
        "\n",
        "mean_value = np.mean(numbers)\n",
        "median_value = np.median(numbers)\n",
        "mode_value = statistics.multimode(numbers)\n",
        "\n",
        "print(\"Mean:\", mean_value)\n",
        "print(\"Median:\", median_value)\n",
        "print(\"Mode:\", mode_value)"
      ],
      "metadata": {
        "colab": {
          "base_uri": "https://localhost:8080/"
        },
        "id": "I58cqVZMMiQJ",
        "outputId": "205ca9f0-b282-4815-a979-699ccf21ce71"
      },
      "execution_count": 19,
      "outputs": [
        {
          "output_type": "stream",
          "name": "stdout",
          "text": [
            "Mean: 19.6\n",
            "Median: 19.0\n",
            "Mode: [12, 19, 24]\n"
          ]
        }
      ]
    },
    {
      "cell_type": "code",
      "source": [
        "# Question 6: Compute the covariance and correlation coefficient between the following two datasets provided as lists in Python:\n",
        "# list_x = [10, 20, 30, 40, 50]\n",
        "# list_y = [15, 25, 35, 45, 60]\n",
        "\n",
        "# Answer:\n",
        "\n",
        "import pandas as pd\n",
        "\n",
        "list_x = [10, 20, 30, 40, 50]\n",
        "list_y = [15, 25, 35, 45, 60]\n",
        "\n",
        "df = pd.DataFrame({'X': list_x, 'Y': list_y})\n",
        "\n",
        "cov_xy = df.cov(numeric_only=True)\n",
        "corr_xy = df.corr(numeric_only=True)\n",
        "\n",
        "print(\"Covariance:\")\n",
        "print(cov_xy)\n",
        "print(\"\\nCorrelation Coefficient:\")\n",
        "print(corr_xy)"
      ],
      "metadata": {
        "id": "QLXIQCbsMvyL",
        "colab": {
          "base_uri": "https://localhost:8080/"
        },
        "outputId": "04707f71-936e-4803-f90d-e750b5dcdf1a"
      },
      "execution_count": 6,
      "outputs": [
        {
          "output_type": "stream",
          "name": "stdout",
          "text": [
            "Covariance:\n",
            "       X      Y\n",
            "X  250.0  275.0\n",
            "Y  275.0  305.0\n",
            "\n",
            "Correlation Coefficient:\n",
            "          X         Y\n",
            "X  1.000000  0.995893\n",
            "Y  0.995893  1.000000\n"
          ]
        }
      ]
    },
    {
      "cell_type": "code",
      "source": [
        "# Question 7: Write a Python script to draw a boxplot for the following numeric list and identify its outliers. Explain the result:\n",
        "# data = [12, 14, 14, 15, 18, 19, 19, 21, 22, 22, 23, 23, 24, 26, 29, 35]\n",
        "\n",
        "# Answer:\n",
        "\n",
        "import matplotlib.pyplot as plt\n",
        "import seaborn as sns\n",
        "import numpy as np\n",
        "\n",
        "data = [12, 14, 14, 15, 18, 19, 19, 21, 22, 22, 23, 23, 24, 26, 29, 35]\n",
        "\n",
        "sns.boxplot(data)\n",
        "plt.title('Box Plot')\n",
        "plt.show()\n",
        "\n",
        "Q1 = np.percentile(data, 25)\n",
        "Q3 = np.percentile(data, 75)\n",
        "IQR = Q3 - Q1\n",
        "\n",
        "lower_fence = Q1 - 1.5 * IQR\n",
        "upper_fence = Q3 + 1.5 * IQR\n",
        "\n",
        "outliers = [x for x in data if x < lower_fence or x > upper_fence]\n",
        "\n",
        "print(\"Q1:\", Q1)\n",
        "print(\"Q3:\", Q3)\n",
        "print(\"IQR:\", IQR)\n",
        "print(\"Lower Fence:\", lower_fence)\n",
        "print(\"Upper Fence:\", upper_fence)\n",
        "print(\"Outliers:\", outliers)"
      ],
      "metadata": {
        "colab": {
          "base_uri": "https://localhost:8080/",
          "height": 537
        },
        "id": "6iHesUxTm3eQ",
        "outputId": "fae836eb-0fec-4edb-d490-392cbf41d08c"
      },
      "execution_count": 12,
      "outputs": [
        {
          "output_type": "display_data",
          "data": {
            "text/plain": [
              "<Figure size 640x480 with 1 Axes>"
            ],
            "image/png": "[encoded data removed]"
          },
          "metadata": {}
        },
        {
          "output_type": "stream",
          "name": "stdout",
          "text": [
            "Q1: 17.25\n",
            "Q3: 23.25\n",
            "IQR: 6.0\n",
            "Lower Fence: 8.25\n",
            "Upper Fence: 32.25\n",
            "Outliers: [35]\n"
          ]
        }
      ]
    },
    {
      "cell_type": "code",
      "source": [
        "# Question 8: You are working as a data analyst in an e-commerce company. The marketing team wants to know if there is a\n",
        "# relationship between advertising spend and daily sales.\n",
        "# ● Explain how you would use covariance and correlation to explore this relationship.\n",
        "# ● Write Python code to compute the correlation between the two lists:\n",
        "# advertising_spend = [200, 250, 300, 400, 500]\n",
        "# daily_sales = [2200, 2450, 2750, 3200, 4000]\n",
        "\n",
        "# Answer: Covariance measures the direction of the relationship between two variables. A positive covariance indicates that as\n",
        "# advertising spend increases, daily sales also increase, while a negative covariance suggests that higher advertising spend is associated\n",
        "# with lower daily sales. However, covariance alone does not explain the strength of this relationship. To understand both direction and\n",
        "# strength, we use the correlation coefficient (Pearson’s), which is a standardized form of covariance. Its value ranges between –1 and +1, where\n",
        "# values close to +1 indicate a strong positive relationship, values close to –1 indicate a strong negative relationship, and values\n",
        "# near 0 suggest a weak or no linear relationship. In business terms, a high and positive correlation means that increased advertising spend\n",
        "# is strongly linked to higher sales, which can help the marketing team make informed budget decisions.\n",
        "\n",
        "import pandas as pd\n",
        "\n",
        "advertising_spend = [200, 250, 300, 400, 500]\n",
        "daily_sales = [2200, 2450, 2750, 3200, 4000]\n",
        "\n",
        "df = pd.DataFrame({'Advertising Spend': advertising_spend,\n",
        "                   'Daily Sales': daily_sales})\n",
        "\n",
        "corr_xy = df.corr(numeric_only=True)\n",
        "print(\"\\nCorrelation Coefficient:\")\n",
        "print(corr_xy)\n",
        "\n",
        "# Conclusion : From the given data, there is a very strong positive relationship between advertising spend and daily sales. This means that in this\n",
        "# dataset, higher advertising spend consistently corresponds to higher daily sales, suggesting that advertising is an effective driver of revenue."
      ],
      "metadata": {
        "colab": {
          "base_uri": "https://localhost:8080/"
        },
        "id": "epqj3ICGoAVb",
        "outputId": "9eccef11-51eb-4fc1-fdbe-426b989f8659"
      },
      "execution_count": 17,
      "outputs": [
        {
          "output_type": "stream",
          "name": "stdout",
          "text": [
            "\n",
            "Correlation Coefficient:\n",
            "                   Advertising Spend  Daily Sales\n",
            "Advertising Spend           1.000000     0.993582\n",
            "Daily Sales                 0.993582     1.000000\n"
          ]
        }
      ]
    },
    {
      "cell_type": "code",
      "source": [
        "# Question 9: Your team has collected customer satisfaction survey data on a scale of 1-10 and wants to understand\n",
        "# its distribution before launching a new product.\n",
        "# ● Explain which summary statistics and visualizations (e.g. mean, standard deviation, histogram) you’d use.\n",
        "# ● Write Python code to create a histogram using Matplotlib for the survey data:\n",
        "# survey_scores = [7, 8, 5, 9, 6, 7, 8, 9, 10, 4, 7, 6, 9, 8, 7]\n",
        "\n",
        "# Answer: To understand the distribution of customer satisfaction scores before launching a new product, it is important to\n",
        "# summarize and visualize the data. The preferred summary statistics are:\n",
        "# 1) Median - It represents the middle value of the dataset and is robust to outliers, showing the typical customer response.\n",
        "# 2) Mode - It highlights the most frequently given score, helping identify the most common satisfaction level.\n",
        "# The preferred visualizations are:\n",
        "# 1) Histogram - It displays the frequency of each survey score, revealing patterns such as peaks, clusters, or gaps.\n",
        "# 2) Boxplot - It identifies outliers and shows the spread and symmetry of the data.\n",
        "# By focusing on median, mode, and histogram, we can quickly understand the overall satisfaction trend and identify\n",
        "# any extreme responses that may need attention.\n",
        "\n",
        "import matplotlib.pyplot as plt\n",
        "import numpy as np\n",
        "\n",
        "survey_scores = [7, 8, 5, 9, 6, 7, 8, 9, 10, 4, 7, 6, 9, 8, 7]\n",
        "\n",
        "plt.hist(survey_scores, bins=range(4,12), color='skyblue', edgecolor='black', align='left')\n",
        "plt.title(\"Histogram of Customer Satisfaction Scores\")\n",
        "plt.xlabel(\"Survey Score\")\n",
        "plt.ylabel(\"Frequency\")\n",
        "plt.xticks(range(4,11))\n",
        "plt.show()"
      ],
      "metadata": {
        "colab": {
          "base_uri": "https://localhost:8080/",
          "height": 472
        },
        "id": "XA5yv1S3qmXY",
        "outputId": "cfffcfdf-9904-45aa-8ddb-f2128aa1617e"
      },
      "execution_count": 16,
      "outputs": [
        {
          "output_type": "display_data",
          "data": {
            "text/plain": [
              "<Figure size 640x480 with 1 Axes>"
            ],
            "image/png": "[encoded data removed]"
          },
          "metadata": {}
        }
      ]
    }
  ]
}